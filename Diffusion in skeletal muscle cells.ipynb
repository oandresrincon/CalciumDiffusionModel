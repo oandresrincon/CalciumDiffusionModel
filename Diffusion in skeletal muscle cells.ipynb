{
 "cells": [
  {
   "cell_type": "markdown",
   "metadata": {},
   "source": [
    "In this code two events of excitation-contraction coupling (ECC) in the skeletal muscle are simulated.\n",
    "\n",
    "** (1) ** An electrical stimulus or action potential (AP) produces a release flow from the\n",
    "Sarcoplasmic reticulum (SR) to myofibrillar space (MS).\n",
    "\n",
    "** (2) ** Calcium is spread through the MS where it will later react with other proteins that will produce the muscle contraction."
   ]
  },
  {
   "cell_type": "markdown",
   "metadata": {},
   "source": [
    "These are the libraries used in this simulation:"
   ]
  },
  {
   "cell_type": "code",
   "execution_count": 1,
   "metadata": {
    "collapsed": true
   },
   "outputs": [],
   "source": [
    "import numpy as np\n",
    "import matplotlib.pyplot as plt"
   ]
  },
  {
   "cell_type": "markdown",
   "metadata": {},
   "source": [
    "These are the parameters used in previous models of the ECC in skeletal muscle (Marccucchi, 2018, Hollyworth & Baylor, 2012)\n",
    "based on information reported on the morphology and kinetics of the skeletal muscle cells."
   ]
  },
  {
   "cell_type": "code",
   "execution_count": 2,
   "metadata": {},
   "outputs": [],
   "source": [
    "#About geometry\n",
    "B = 0.5 # Radious of the cylinder [um].\n",
    "L = 1.0 # Longitud of the cylinder [um]. \n",
    "n = 5  # Number of radial compartments.\n",
    "m = 10  # Number of longitudinal compartments.\n",
    "dr = B / n # Distance betweet two radial compartments [um].\n",
    "dl = L / m # Distance betweet two longitudinal compartments [um].\n",
    "#About diffusion equation\n",
    "D = 0.3 # Diffusion coeficient [um2 /ms].\n",
    "\n",
    "#About release rate flux\n",
    "P_max = 200 # Maximun permeability [um/ms]\n",
    "t_on = 2 # Time constant of turn on permeability [ms]\n",
    "t_off = 5 # Time constant of turn off permeability [ms]\n",
    "n_Release, m_Release = 1, 4 #Position of the release rate flux in the compartement of the row 1 and column 4. \n",
    "\n",
    "#About initial conditions. Calcium concentration at equilibrium state.\n",
    "ca0 = 0.1 * np.ones((n, m))#Matrix with n rows and m columns with the same value of 0.1 uM.\n",
    "ca=np.empty((n, m))#Empty matrix with n rows and m columns. Thix matrix will be used in the equation system solution.\n",
    "\n",
    "#About time steps and time interval interval \n",
    "ti=0 # intial time [ms]\n",
    "tf=10 # #final time [ms]\n",
    "dl2, dr2 = dl*dl, dr*dr #Values of dl^2 and dr^2 used in the next calculation of time step dt.\n",
    "dt = dl2 * dr2 / (2 * D * (dl2 + dr2))#Delta t that we can allow without the process becoming unstable.\n",
    "nsteps=round((tf-ti)/dt)# number of time steps nsteps."
   ]
  },
  {
   "cell_type": "markdown",
   "metadata": {},
   "source": [
    "This is the function that describes the proposed release flow in (Hollyworth & Baylor, 2012):"
   ]
  },
  {
   "cell_type": "code",
   "execution_count": 3,
   "metadata": {
    "collapsed": true
   },
   "outputs": [],
   "source": [
    "def Release_Rate(t): # Release rate flux function [um/ms]\n",
    "    return  P_max * (1 - np.exp(-t/t_on) ) * ( np.exp(-t/t_off)) "
   ]
  },
  {
   "cell_type": "markdown",
   "metadata": {},
   "source": [
    "This is the graph of the release flow obtained:"
   ]
  },
  {
   "cell_type": "code",
   "execution_count": 4,
   "metadata": {},
   "outputs": [
    {
     "data": {
      "image/png": "[encoded data removed]",
      "text/plain": [
       "<matplotlib.figure.Figure at 0x277d8f6df98>"
      ]
     },
     "metadata": {},
     "output_type": "display_data"
    }
   ],
   "source": [
    "time = np.arange(ti, tf, dt) # Time range from 0 [ms] to 10 [ms]\n",
    "plt.plot(time,Release_Rate(time),'k')\n",
    "plt.xlabel('time (ms)')\n",
    "plt.ylabel(r'Release rate flux of Ca$^{2+}$ ($\\mu$M/ms)')\n",
    "plt.show() "
   ]
  },
  {
   "cell_type": "markdown",
   "metadata": {},
   "source": [
    "Based on:\n",
    "\n",
    "https://scipython.com/book/chapter-7-matplotlib/examples/the-two-dimensional-diffusion-equation/\n",
    "\n",
    "This is the diffusion equation aproxiation in catertessian coordinates:"
   ]
  },
  {
   "cell_type": "code",
   "execution_count": 5,
   "metadata": {
    "collapsed": true
   },
   "outputs": [],
   "source": [
    "def do_timestep(u0, u):\n",
    "    for i in range(1, n-1):\n",
    "        for j in range(1, m-1):                    \n",
    "                    u_down = D * ( u0[i+1,j] - u0[i,j] ) / dr  \n",
    "                    u_up = D * ( u0[i-1,j] - u0[i,j] ) / dr \n",
    "                    u_right = D * ( u0[i,j+1] - u0[i,j] ) / dl \n",
    "                    u_left = D * ( u0[i,j-1] - u0[i,j] ) / dl\n",
    "                    u[i,j] = u0[i,j] + ( dt * ( u_down + u_up + u_right + u_left ) ) \n",
    "    u0 = u.copy()\n",
    "    return u0, u"
   ]
  },
  {
   "cell_type": "markdown",
   "metadata": {},
   "source": [
    "This is the loop to solve que the equation system:"
   ]
  },
  {
   "cell_type": "code",
   "execution_count": 6,
   "metadata": {},
   "outputs": [],
   "source": [
    "cas={}\n",
    "for nstep in range(nsteps):\n",
    "    cas[nstep]=ca0.copy()\n",
    "    ca0, ca = do_timestep(ca0, ca)\n",
    "    ca0[n_Release,m_Release]= ca0[n_Release,m_Release] + Release_Rate(nstep*dt)"
   ]
  },
  {
   "cell_type": "markdown",
   "metadata": {},
   "source": [
    "There are 1200 steps. Then 0 ms is step 0 and 10 ms is step 1199."
   ]
  },
  {
   "cell_type": "code",
   "execution_count": 7,
   "metadata": {},
   "outputs": [
    {
     "data": {
      "text/plain": [
       "1200"
      ]
     },
     "execution_count": 7,
     "metadata": {},
     "output_type": "execute_result"
    }
   ],
   "source": [
    "nsteps"
   ]
  },
  {
   "cell_type": "code",
   "execution_count": 8,
   "metadata": {},
   "outputs": [
    {
     "data": {
      "image/png": "[encoded data removed]",
      "text/plain": [
       "<matplotlib.figure.Figure at 0x277db361cc0>"
      ]
     },
     "metadata": {},
     "output_type": "display_data"
    }
   ],
   "source": [
    "nstep=1\n",
    "plt.imshow(cas[nstep][1:n-1,1:m-1],cmap='gray')\n",
    "plt.colorbar()\n",
    "plt.title('{:.2f} ms'.format(nstep*dt))\n",
    "plt.xlabel('L Axis')\n",
    "plt.ylabel('R Axis')\n",
    "plt.show()"
   ]
  },
  {
   "cell_type": "code",
   "execution_count": 9,
   "metadata": {},
   "outputs": [
    {
     "data": {
      "image/png": "[encoded data removed]",
      "text/plain": [
       "<matplotlib.figure.Figure at 0x277db3617f0>"
      ]
     },
     "metadata": {},
     "output_type": "display_data"
    }
   ],
   "source": [
    "nstep=3\n",
    "plt.imshow(cas[nstep][1:n-1,1:m-1],cmap='gray')\n",
    "plt.colorbar()\n",
    "plt.title('{:.2f} ms'.format(nstep*dt))\n",
    "plt.xlabel('L Axis')\n",
    "plt.ylabel('R Axis')\n",
    "plt.show()"
   ]
  },
  {
   "cell_type": "code",
   "execution_count": 10,
   "metadata": {},
   "outputs": [
    {
     "data": {
      "image/png": "[encoded data removed]",
      "text/plain": [
       "<matplotlib.figure.Figure at 0x277db530a58>"
      ]
     },
     "metadata": {},
     "output_type": "display_data"
    }
   ],
   "source": [
    "nstep=50\n",
    "plt.imshow(cas[nstep][1:n-1,1:m-1],cmap='gray')\n",
    "plt.colorbar()\n",
    "plt.title('{:.2f} ms'.format(nstep*dt))\n",
    "plt.xlabel('L Axis')\n",
    "plt.ylabel('R Axis')\n",
    "plt.show()"
   ]
  },
  {
   "cell_type": "code",
   "execution_count": 11,
   "metadata": {},
   "outputs": [
    {
     "data": {
      "image/png": "[encoded data removed]",
      "text/plain": [
       "<matplotlib.figure.Figure at 0x277db62b390>"
      ]
     },
     "metadata": {},
     "output_type": "display_data"
    }
   ],
   "source": [
    "nstep=200\n",
    "plt.imshow(cas[nstep][1:n-1,1:m-1],cmap='gray')\n",
    "plt.colorbar()\n",
    "plt.title('{:.2f} ms'.format(nstep*dt))\n",
    "plt.xlabel('L Axis')\n",
    "plt.ylabel('R Axis')\n",
    "plt.show()"
   ]
  },
  {
   "cell_type": "code",
   "execution_count": 12,
   "metadata": {},
   "outputs": [
    {
     "data": {
      "image/png": "[encoded data removed]",
      "text/plain": [
       "<matplotlib.figure.Figure at 0x277db748e10>"
      ]
     },
     "metadata": {},
     "output_type": "display_data"
    }
   ],
   "source": [
    "nstep=1199\n",
    "plt.imshow(cas[nstep][1:n-1,1:m-1],cmap='gray')\n",
    "plt.colorbar()\n",
    "plt.title('{:.2f} ms'.format(nstep*dt))\n",
    "plt.xlabel('L Axis')\n",
    "plt.ylabel('R Axis')\n",
    "plt.show()"
   ]
  }
 ],
 "metadata": {
  "kernelspec": {
   "display_name": "Python 3 (ipykernel)",
   "language": "python",
   "name": "python3"
  },
  "language_info": {
   "codemirror_mode": {
    "name": "ipython",
    "version": 3
   },
   "file_extension": ".py",
   "mimetype": "text/x-python",
   "name": "python",
   "nbconvert_exporter": "python",
   "pygments_lexer": "ipython3",
   "version": "3.10.4"
  }
 },
 "nbformat": 4,
 "nbformat_minor": 2
}
