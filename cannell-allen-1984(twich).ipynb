{
 "cells": [
  {
   "cell_type": "code",
   "execution_count": null,
   "metadata": {
    "collapsed": true
   },
   "outputs": [],
   "source": []
  },
  {
   "cell_type": "code",
   "execution_count": 1,
   "metadata": {
    "collapsed": true
   },
   "outputs": [],
   "source": [
    "import release\n",
    "import diffusionHB\n",
    "import uptake"
   ]
  },
  {
   "cell_type": "code",
   "execution_count": null,
   "metadata": {
    "collapsed": true
   },
   "outputs": [],
   "source": []
  },
  {
   "cell_type": "code",
   "execution_count": null,
   "metadata": {
    "collapsed": true
   },
   "outputs": [],
   "source": []
  },
  {
   "cell_type": "markdown",
   "metadata": {},
   "source": [
    "**Geometric parameter**"
   ]
  },
  {
   "cell_type": "code",
   "execution_count": 2,
   "metadata": {
    "collapsed": true
   },
   "outputs": [],
   "source": [
    "import numpy as np\n",
    "import matplotlib.pyplot as plt\n",
    "\n",
    "D = 0.7 # Diffusion coeficient [um2 /ms].\n",
    "B = 0.5 # Radious of the cilinder [um].\n",
    "L = 1.1 # Longitud of the cilinder [um]. \n",
    "n = 12  # Number of radial compartments.\n",
    "m = 10  # Number of longitudinal compartments.\n",
    "dr = (B / n) # Distance betweet two radial compartments [um].\n",
    "dl = L / m # Distance betweet two longitudinal compartments [um].\n",
    "dr2, dl2 = dr * dr, dl * dl\n",
    "dt = dr2 * dl2 / (2 * D * (dr2 + dl2))\n"
   ]
  },
  {
   "cell_type": "markdown",
   "metadata": {},
   "source": [
    "**Release rate parameters**"
   ]
  },
  {
   "cell_type": "code",
   "execution_count": 3,
   "metadata": {
    "collapsed": true
   },
   "outputs": [],
   "source": [
    "R = 3000 # Maximun release tase\n",
    "t_on = 1.5 # Time constant of turn on permeability [ms]\n",
    "t_off = 2 # Time constant of turn off permeability [ms]\n",
    "L=5 \n",
    "M=1"
   ]
  },
  {
   "cell_type": "markdown",
   "metadata": {},
   "source": [
    "**Uptake parameters**"
   ]
  },
  {
   "cell_type": "code",
   "execution_count": 4,
   "metadata": {
    "collapsed": true
   },
   "outputs": [],
   "source": [
    "kd = 5\n",
    "vmax = 10"
   ]
  },
  {
   "cell_type": "markdown",
   "metadata": {},
   "source": [
    "**Binding parameters**"
   ]
  },
  {
   "cell_type": "code",
   "execution_count": 5,
   "metadata": {
    "collapsed": true
   },
   "outputs": [],
   "source": [
    "Local_concentration_T = 140 \n",
    "T_av = Local_concentration_T  / ( m * ( n - 2 ) )\n",
    "sites_T0 = np.zeros( ( n, m ) )\n",
    "sites_T0[2:n,0:m] = ( Local_concentration_T ) / ( m * ( n - 2 ) )\n",
    "Total_T =np.zeros((n, m))\n",
    "Total_T[2:n,0:m] = 0.94 / ( m * ( n - 2 ) )\n",
    "sites_TC = np.empty( (n, m ) )\n",
    "sites_TC0 = np.zeros( ( n, m ))\n",
    "sites_TC0[2:n,0:m] = 0.06 / ( ( n - 2 ) * m )\n",
    "sites_T = np.empty( ( n, m ) )\n",
    "\n",
    "k_on_Tr = 0.12  \n",
    "k_off_Tr = 0.12  \n",
    "\n",
    "\n",
    "def CaT(c,tr,ctr,dt):\n",
    "    return( + ( k_on_Tr * c * ( T_av - ctr ) ) - ( k_off_Tr * ctr ) ) * dt  \n",
    " \n",
    "\n",
    "def Tr(c,tr,ctr,dt):\n",
    "    return ( - ( k_on_Tr * c * ( T_av - ctr ) ) + ( k_off_Tr * ctr ) ) * dt \n",
    "\n"
   ]
  },
  {
   "cell_type": "code",
   "execution_count": null,
   "metadata": {
    "collapsed": true
   },
   "outputs": [],
   "source": []
  },
  {
   "cell_type": "code",
   "execution_count": 6,
   "metadata": {
    "collapsed": true
   },
   "outputs": [],
   "source": [
    "Local_concentration_P = 940 \n",
    "P_av = Local_concentration_P  / ( m * ( n - 1 ) ) #0.02 *\n",
    "sites_P0 = np.zeros((n, m))\n",
    "sites_P0[1:n,0:m] = ( 0.02 * Local_concentration_P ) / ( m * ( n - 1 ) ) #0.02 *\n",
    "Total_P=np.zeros((n, m))\n",
    "Total_P[1:n,0:m] = 100 / ( m * ( n - 1 ) )\n",
    "sites_PC = np.empty((n, m))\n",
    "sites_PC0 = np.zeros((n, m))\n",
    "sites_PC0[1:n,0:m] = ( 0.28 * 940 ) / ( ( n - 1 ) * m ) # ( 0.28 * 940 )\n",
    "sites_P = np.empty(( n, m ))\n",
    "\n",
    "k_on_Par = 2.5 *( 10**-1 )  #/((n-1)*m)\n",
    "k_off_Par = 0.1 * ( 10 **-3 ) # /((n-1)*m)\n",
    "\n",
    "def CaP(c,p,cp,mgp,dt):\n",
    "    return( + ( k_on_Par * c * ( P_av - mgp  - cp ) ) - ( k_off_Par * cp ) ) * dt \n",
    " \n",
    "def Par(c,p,cp,mgp,dt):\n",
    "    return ( - ( k_on_Par * c * ( P_av - mgp  - cp ) ) + ( k_off_Par * cp ) ) * dt\n",
    "\n",
    "def Ca(c,p,cp,tr,ctr,mgp,dt):\n",
    "    return ( - ( k_on_Par * c * ( P_av - mgp - cp ) ) + ( k_off_Par * cp ) - ( k_on_Tr * c * ( T_av - ctr ) ) + ( k_off_Tr * ctr ) ) * dt\n"
   ]
  },
  {
   "cell_type": "code",
   "execution_count": null,
   "metadata": {
    "collapsed": true
   },
   "outputs": [],
   "source": []
  },
  {
   "cell_type": "code",
   "execution_count": 7,
   "metadata": {
    "collapsed": true
   },
   "outputs": [],
   "source": [
    "Local_concentration_Mg = 3300 \n",
    "Mg_av = (Local_concentration_Mg ) / ( m * ( n-1 ) )\n",
    "sites_Mg0 = np.zeros((n, m))\n",
    "sites_Mg0[1:n,0:m] = ( 0.30 * Local_concentration_Mg ) / ( m * ( n-1 ) )\n",
    "sites_PMg = np.empty((n, m))\n",
    "sites_PMg0 = np.zeros((n, m))\n",
    "sites_PMg0[1:n,0:m] =( 0.70  * 940 ) / ( ( n - 1 ) * m ) \n",
    "sites_Mg = np.empty((n, m))\n",
    "\n",
    "k_on_Mg = 6.6 *( 10**-5 )  #/((n-1)*m)\n",
    "k_off_Mg = 6 * ( 10**-3 )  #/((n-1)*m)\n",
    "\n",
    "def MgP(mg,p,mgp,cp,dt):\n",
    "    return( + (k_on_Mg * mg * ( P_av - mgp  - cp) ) - ( k_off_Mg * mgp ) ) * dt\n",
    " \n",
    "\n",
    "def ParMg(mg,p,mgp,cp,dt):\n",
    "    return ( - ( k_on_Mg * mg * ( P_av - mgp  - cp) ) + ( k_off_Mg * mgp ) ) * dt \n",
    "\n",
    "def Mg(mg,p,mgp,cp,dt):\n",
    "    return ( - ( k_on_Mg * mg * ( P_av - mgp - cp ) ) + ( k_off_Mg * mgp ) ) * dt \n"
   ]
  },
  {
   "cell_type": "markdown",
   "metadata": {},
   "source": [
    "** Inicial conditions **"
   ]
  },
  {
   "cell_type": "code",
   "execution_count": 8,
   "metadata": {
    "collapsed": true
   },
   "outputs": [],
   "source": [
    "u0 = np.zeros([n,m]) \n",
    "u0[0,0] = 1500 \n",
    "u0[1:n,0:m] = 0.06 / (m*(n-1))\n",
    "u = np.empty((n, m))"
   ]
  },
  {
   "cell_type": "markdown",
   "metadata": {},
   "source": [
    "**Main program**"
   ]
  },
  {
   "cell_type": "code",
   "execution_count": 9,
   "metadata": {
    "collapsed": true
   },
   "outputs": [],
   "source": [
    "#dt = 0.001\n",
    "nsteps = 100000\n",
    "us={}\n",
    "sites_TCs={}\n",
    "sites_PCs={}\n",
    "\n",
    "for nstep in range(nsteps):\n",
    "    \n",
    "    # save matrix\n",
    "    \n",
    "    us[nstep]=u0.copy()\n",
    "    sites_TCs[nstep]=sites_TC0.copy()\n",
    "    sites_PCs[nstep]=sites_PC0.copy()\n",
    "    \n",
    "    # release\n",
    "\n",
    "    u[1,0]= u0[1,0] + (dt*release.Release_rate(nstep*dt,R,t_on,t_off,L,M))\n",
    "    u[0,0]= u0[0,0] - (dt*release.Release_rate(nstep*dt,R,t_on,t_off,L,M))\n",
    "\n",
    "    # uptake\n",
    "    \n",
    "    for j in range(m):\n",
    "\n",
    "        u[0,j]= u0[0,j] + (dt*uptake.Pump_rate(nstep*dt,u0[1,j],kd,vmax))\n",
    "        u[1,j]= u0[1,j] - (dt*uptake.Pump_rate(nstep*dt,u0[1,j],kd,vmax))\n",
    "        \n",
    "\n",
    "    \n",
    "    # binding\n",
    "\n",
    "\n",
    "     # troponina\n",
    "        \n",
    "    sites_TC = sites_TC0 + CaT(u0,sites_T0,sites_TC0,dt)    \n",
    "    sites_T = sites_T0 + Tr(u0,sites_T0,sites_TC0,dt)\n",
    "    \n",
    "    # parvalbumina\n",
    "    \n",
    "    #sites_P = sites_P0 + Par(u0,sites_P0,sites_PC0,sites_PMg0,dt) + ParMg(sites_Mg0,sites_P0,sites_PMg0,sites_PC0,dt) \n",
    "\n",
    "    sites_PC = sites_PC0 + CaP(u0,sites_P0,sites_PC0,sites_PMg0,dt)\n",
    "    #sites_P0 = sites_P0 + Par(u0,sites_P0,sites_PC0,sites_PMg0,dt)    \n",
    "        \n",
    "    # magnesium\n",
    "        \n",
    "    sites_PMg = sites_PMg0 + MgP(sites_Mg0,sites_P0,sites_PMg0,sites_PC0,dt)   \n",
    "    sites_Mg = sites_Mg0 + Mg(sites_Mg0,sites_P0,sites_PMg0,sites_PC0,dt)\n",
    "\n",
    "    \n",
    "    # calcium\n",
    "    \n",
    "    u0 = u0 + Ca(u0,sites_P0,sites_PC0,sites_T0,sites_TC0,sites_PMg0,dt)\n",
    "\n",
    "    sites_TC0=sites_TC \n",
    "    sites_T0=sites_T\n",
    "    sites_PC0=sites_PC\n",
    "    sites_PMg0=sites_PMg\n",
    "    sites_Mg0=sites_Mg\n",
    "    sites_P0=sites_P\n",
    "    \n",
    "    # diffusion\n",
    "\n",
    "    u0, u = diffusionHB.do_timestep(u0, u, 0.7,dl,dr,dt,m,n)  \n",
    "\n",
    "    # result\n",
    "\n",
    "    u=u0\n",
    "   "
   ]
  },
  {
   "cell_type": "markdown",
   "metadata": {},
   "source": [
    "** Results **"
   ]
  },
  {
   "cell_type": "code",
   "execution_count": 10,
   "metadata": {},
   "outputs": [
    {
     "data": {
      "image/png": "[encoded data removed]",
      "text/plain": [
       "<matplotlib.figure.Figure at 0x7f899da36cc0>"
      ]
     },
     "metadata": {},
     "output_type": "display_data"
    }
   ],
   "source": [
    "fig3 = plt.figure(figsize=(5,12))\n",
    "\n",
    "ax1 = fig3.add_subplot(3, 1, 1)\n",
    "\n",
    "ms_c=[]\n",
    "time=[]\n",
    "for nstep in range(nsteps):\n",
    "    ms_c.append(np.mean(us[nstep][1:n,0:m]))\n",
    "    time.append(nstep*dt)\n",
    "ax1.plot(time,ms_c,color='black',linewidth=1.0)\n",
    "ax1.set_yticks([0, 5, 7, 10])\n",
    "ax1.set_ylabel(r'[Ca$^{2+}]$ ($\\mu$M)',fontsize=12)\n",
    "ax1.set_xlabel(r'Time (ms)',fontsize=12)\n",
    "\n",
    "\n",
    "ax2 = fig3.add_subplot(3, 1, 2)\n",
    "\n",
    "ms_c=[]\n",
    "time=[]\n",
    "for nstep in range(nsteps):\n",
    "    ms_c.append(100*(np.sum(sites_TCs[nstep][2:n,0:m])/140))\n",
    "    time.append(nstep*dt)\n",
    "ax2.plot(time,ms_c,color='black',linewidth=1.0)\n",
    "ax2.set_yticks([0, 50, 80, 100])\n",
    "ax2.set_xlabel(r'Time (ms)',fontsize=12)\n",
    "ax2.set_ylabel(r'% saturation T sites',fontsize=12)\n",
    "\n",
    "ax3 = fig3.add_subplot(3, 1, 3)\n",
    "\n",
    "ms_c=[]\n",
    "time=[]\n",
    "for nstep in range(nsteps):\n",
    "    ms_c.append(100*(np.sum(sites_PCs[nstep][1:n,0:m])/940))\n",
    "    time.append(nstep*dt)\n",
    "ax3.plot(time,ms_c,color='black',linewidth=1.0)\n",
    "ax3.set_yticks([0, 50, 100])\n",
    "ax3.set_xlabel(r'Time (ms)',fontsize=12)\n",
    "ax3.set_ylabel(r'% saturation P sites',fontsize=12)\n",
    "\n",
    "plt.show() "
   ]
  },
  {
   "cell_type": "code",
   "execution_count": 12,
   "metadata": {},
   "outputs": [
    {
     "data": {
      "image/png": "[encoded data removed]",
      "text/plain": [
       "<matplotlib.figure.Figure at 0x7f7ec045eda0>"
      ]
     },
     "metadata": {},
     "output_type": "display_data"
    }
   ],
   "source": [
    "ms_c=[]\n",
    "time=[]\n",
    "for nstep in range(nsteps):\n",
    "    ms_c.append(np.sum(us[nstep][0,0:m]/1000))\n",
    "    time.append(nstep*dt)\n",
    "plt.plot(time,ms_c,color='black',linewidth=1.0)\n",
    "plt.savefig('Figuredt.pdf')\n",
    "plt.yticks([0, 0.5, 1.0, 1.5])\n",
    "plt.ylabel(r'SR [Ca$^{2+}]$ ($m$M)',fontsize=12,rotation=90)\n",
    "plt.xlabel(r'Time (ms)',fontsize=12)\n",
    "plt.show()"
   ]
  },
  {
   "cell_type": "code",
   "execution_count": null,
   "metadata": {
    "collapsed": true
   },
   "outputs": [],
   "source": []
  },
  {
   "cell_type": "code",
   "execution_count": null,
   "metadata": {
    "collapsed": true
   },
   "outputs": [],
   "source": []
  },
  {
   "cell_type": "code",
   "execution_count": null,
   "metadata": {
    "collapsed": true
   },
   "outputs": [],
   "source": []
  },
  {
   "cell_type": "code",
   "execution_count": null,
   "metadata": {
    "collapsed": true
   },
   "outputs": [],
   "source": []
  },
  {
   "cell_type": "code",
   "execution_count": null,
   "metadata": {
    "collapsed": true
   },
   "outputs": [],
   "source": []
  },
  {
   "cell_type": "code",
   "execution_count": null,
   "metadata": {
    "collapsed": true
   },
   "outputs": [],
   "source": []
  },
  {
   "cell_type": "code",
   "execution_count": 32,
   "metadata": {},
   "outputs": [
    {
     "data": {
      "image/png": "[encoded data removed]",
      "text/plain": [
       "<matplotlib.figure.Figure at 0x7fc3abdea8d0>"
      ]
     },
     "metadata": {},
     "output_type": "display_data"
    }
   ],
   "source": [
    "from mpl_toolkits.mplot3d import axes3d\n",
    "import matplotlib.pyplot as plt\n",
    "\n",
    "nstep=200\n",
    "lon = np.arange(0,m, 1)\n",
    "lon2=np.zeros([n-1,m]) + lon\n",
    "rad = np.arange(0,n-1, 1)\n",
    "rad2 = np.zeros([m,n-1]) + rad\n",
    "z=us[nstep][1:n,0:m]\n",
    "rad2=np.rot90(rad2,-1)\n",
    "rad2.shape\n",
    "\n",
    "fig = plt.figure(figsize=(10,8))\n",
    "ax = fig.add_subplot(111, projection='3d')\n",
    "\n",
    "# Plot a basic wireframe.\n",
    "ax.plot_surface(lon2, rad2, z,rstride=1, cstride=1,color='gray',vmin=0)\n",
    "ax.set_title('{:.1f} ms'.format(nstep*dt),fontsize=15)\n",
    "ax.set_zlim(0, 30)\n",
    "ax.set_zlabel(r'[Ca$^{2+}$ ($\\mu$M)]',fontsize=15,rotation=180)\n",
    "ax.set_xticks([])#([0, 9])\n",
    "ax.set_xticklabels([])#(['z', 'm'])\n",
    "ax.set_yticks([])\n",
    "ax.set_yticklabels([])\n",
    "\n",
    "plt.show()"
   ]
  },
  {
   "cell_type": "code",
   "execution_count": 35,
   "metadata": {},
   "outputs": [
    {
     "name": "stderr",
     "output_type": "stream",
     "text": [
      "/usr/local/lib/python3.4/dist-packages/matplotlib/pyplot.py:524: RuntimeWarning: More than 20 figures have been opened. Figures created through the pyplot interface (`matplotlib.pyplot.figure`) are retained until explicitly closed and may consume too much memory. (To control this warning, see the rcParam `figure.max_open_warning`).\n",
      "  max_open_warning, RuntimeWarning)\n"
     ]
    }
   ],
   "source": [
    "for i in range(0,20000,100):\n",
    "    nstep=i\n",
    "    lon = np.arange(0,m, 1)\n",
    "    lon2=np.zeros([n-1,m]) + lon\n",
    "    rad = np.arange(0,n-1, 1)\n",
    "    rad2 = np.zeros([m,n-1]) + rad\n",
    "    z=us[nstep][1:n,0:m]\n",
    "    rad2=np.rot90(rad2,-1)\n",
    "    rad2.shape\n",
    "\n",
    "    fig = plt.figure(figsize=(10,8))\n",
    "    ax = fig.add_subplot(111, projection='3d')\n",
    "\n",
    "    # Plot a basic wireframe.\n",
    "    ax.plot_surface(lon2, rad2, z,rstride=1, cstride=1,color='gray',vmin=0)\n",
    "    ax.set_title('{:.1f} ms'.format(nstep*dt),fontsize=15)\n",
    "    ax.set_zlim(0, 30)\n",
    "    ax.set_zlabel(r'[Ca$^{2+}$ ($\\mu$M)]',fontsize=15,rotation=90)\n",
    "    ax.set_xticks([])#([0, 9])\n",
    "    ax.set_xticklabels([])#(['z', 'm'])\n",
    "    ax.set_yticks([])\n",
    "    ax.set_yticklabels([])\n",
    "    fig=plt.savefig('images_model/Figure'+str(int(i/100))+'.png')\n",
    "    "
   ]
  },
  {
   "cell_type": "code",
   "execution_count": 36,
   "metadata": {},
   "outputs": [
    {
     "data": {
      "text/plain": [
       "0"
      ]
     },
     "execution_count": 36,
     "metadata": {},
     "output_type": "execute_result"
    }
   ],
   "source": [
    "import os, sys\n",
    "os.system('ffmpeg -r 1 -i images_model/Figure%d.png images_model/output.mp4')"
   ]
  },
  {
   "cell_type": "code",
   "execution_count": null,
   "metadata": {
    "collapsed": true
   },
   "outputs": [],
   "source": []
  },
  {
   "cell_type": "code",
   "execution_count": null,
   "metadata": {
    "collapsed": true
   },
   "outputs": [],
   "source": []
  }
 ],
 "metadata": {
  "kernelspec": {
   "display_name": "Python 3 (ipykernel)",
   "language": "python",
   "name": "python3"
  },
  "language_info": {
   "codemirror_mode": {
    "name": "ipython",
    "version": 3
   },
   "file_extension": ".py",
   "mimetype": "text/x-python",
   "name": "python",
   "nbconvert_exporter": "python",
   "pygments_lexer": "ipython3",
   "version": "3.10.4"
  }
 },
 "nbformat": 4,
 "nbformat_minor": 2
}
